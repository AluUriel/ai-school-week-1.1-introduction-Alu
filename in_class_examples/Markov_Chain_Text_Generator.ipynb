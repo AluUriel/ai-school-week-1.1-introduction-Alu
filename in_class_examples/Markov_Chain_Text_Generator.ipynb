{
  "nbformat": 4,
  "nbformat_minor": 0,
  "metadata": {
    "colab": {
      "provenance": []
    },
    "kernelspec": {
      "name": "python3",
      "display_name": "Python 3"
    },
    "language_info": {
      "name": "python"
    }
  },
  "cells": [
    {
      "cell_type": "code",
      "execution_count": null,
      "metadata": {
        "id": "Ih4IZaEOTPGs"
      },
      "outputs": [],
      "source": [
        "from collections import defaultdict\n",
        "import random\n",
        "\n",
        "class MarkovChain:\n",
        "  def __init__(self, text: str):\n",
        "    self.next_word_ref = defaultdict(list)\n",
        "    words = text.split(\" \")\n",
        "    for i, word in enumerate(words[:-1]):\n",
        "      self.next_word_ref[word].append(words[i + 1])\n",
        "\n",
        "  def generate_text(self, start_word: str =\"\", output_length: int = 100) -> str:\n",
        "    if not start_word:\n",
        "      start_word = random.choice(sorted(self.next_word_ref))\n",
        "    output = [start_word]\n",
        "    for i in range(output_length):\n",
        "      if output[i] in self.next_word_ref:\n",
        "        output.append(random.choice(self.next_word_ref[output[i]]))\n",
        "      else:\n",
        "        # Edge case for unique last word, no next word in corpus so pick a random one\n",
        "        output.append(random.choice(sorted(self.next_word_ref)))\n",
        "    return \" \".join(output)"
      ]
    },
    {
      "cell_type": "code",
      "source": [
        "test_chain = MarkovChain(\"This is a test of the Markov Chain.\")"
      ],
      "metadata": {
        "id": "gLMrLPy-UhnA"
      },
      "execution_count": null,
      "outputs": []
    },
    {
      "cell_type": "code",
      "source": [
        "test_chain.next_word_ref"
      ],
      "metadata": {
        "colab": {
          "base_uri": "https://localhost:8080/"
        },
        "id": "QK3soWUmPRzs",
        "outputId": "812716ae-50a8-49e2-a045-9ffba4eb848d"
      },
      "execution_count": null,
      "outputs": [
        {
          "output_type": "execute_result",
          "data": {
            "text/plain": [
              "defaultdict(list,\n",
              "            {'This': ['is'],\n",
              "             'is': ['a'],\n",
              "             'a': ['test'],\n",
              "             'test': ['of'],\n",
              "             'of': ['the'],\n",
              "             'the': ['Markov'],\n",
              "             'Markov': ['Chain.']})"
            ]
          },
          "metadata": {},
          "execution_count": 3
        }
      ]
    },
    {
      "cell_type": "code",
      "source": [
        "test_chain.generate_text()  # Each word uniquely follows each other, so only randomness is where it restarts with a new word i.e. the edge case"
      ],
      "metadata": {
        "colab": {
          "base_uri": "https://localhost:8080/",
          "height": 70
        },
        "id": "YOq0UO1DU5VK",
        "outputId": "a04b60f5-1bac-4377-a27c-8e9e54df4281"
      },
      "execution_count": null,
      "outputs": [
        {
          "output_type": "execute_result",
          "data": {
            "text/plain": [
              "'the Markov Chain. the Markov Chain. of the Markov Chain. of the Markov Chain. Markov Chain. Markov Chain. a test of the Markov Chain. is a test of the Markov Chain. test of the Markov Chain. the Markov Chain. test of the Markov Chain. is a test of the Markov Chain. a test of the Markov Chain. is a test of the Markov Chain. a test of the Markov Chain. This is a test of the Markov Chain. is a test of the Markov Chain. Markov Chain. a test of the Markov Chain. is a test of the Markov Chain. Markov'"
            ],
            "application/vnd.google.colaboratory.intrinsic+json": {
              "type": "string"
            }
          },
          "metadata": {},
          "execution_count": 4
        }
      ]
    },
    {
      "cell_type": "code",
      "source": [
        "# Let's throw bigger text at it - we'll see actual randomness, and almost certainly won't trigger the edge case\n",
        "!curl https://www.gutenberg.org/files/11/11-0.txt -o aliceinwonderland.txt"
      ],
      "metadata": {
        "colab": {
          "base_uri": "https://localhost:8080/"
        },
        "id": "8FqebyNSU6Jx",
        "outputId": "2182e4f0-6554-4178-81a2-3274818697ee"
      },
      "execution_count": null,
      "outputs": [
        {
          "output_type": "stream",
          "name": "stdout",
          "text": [
            "  % Total    % Received % Xferd  Average Speed   Time    Time     Time  Current\n",
            "                                 Dload  Upload   Total   Spent    Left  Speed\n",
            "\r  0     0    0     0    0     0      0      0 --:--:-- --:--:-- --:--:--     0\r100  151k  100  151k    0     0   770k      0 --:--:-- --:--:-- --:--:--  774k\n"
          ]
        }
      ]
    },
    {
      "cell_type": "code",
      "source": [
        "with open(\"aliceinwonderland.txt\") as file:\n",
        "  alice_chain = MarkovChain(file.read())"
      ],
      "metadata": {
        "id": "8d8Egaf4U_ql"
      },
      "execution_count": null,
      "outputs": []
    },
    {
      "cell_type": "code",
      "source": [
        "alice_chain.next_word_ref[\"Alice\"]  # Possible words to follow \"Alice\""
      ],
      "metadata": {
        "colab": {
          "base_uri": "https://localhost:8080/"
        },
        "id": "6dIfNcOHPYnn",
        "outputId": "99aa939f-7459-4b27-d655-2ac8350ce9dd"
      },
      "execution_count": null,
      "outputs": [
        {
          "output_type": "execute_result",
          "data": {
            "text/plain": [
              "['think',\n",
              " 'started',\n",
              " 'after',\n",
              " 'had',\n",
              " 'to',\n",
              " 'had',\n",
              " 'soon',\n",
              " 'like',\n",
              " 'had',\n",
              " 'was\\nnot',\n",
              " 'ventured',\n",
              " 'to',\n",
              " 'to',\n",
              " '(she',\n",
              " 'felt\\nso',\n",
              " 'had',\n",
              " 'hastily,',\n",
              " 'in',\n",
              " 'went',\n",
              " 'again,',\n",
              " 'went',\n",
              " 'in',\n",
              " 'thought),',\n",
              " 'to',\n",
              " 'would',\n",
              " 'kept',\n",
              " 'as',\n",
              " 'in',\n",
              " 'with',\n",
              " 'sadly.\\n\\n“Hand',\n",
              " 'severely.',\n",
              " 'very',\n",
              " 'called',\n",
              " 'aloud,\\naddressing',\n",
              " 'was',\n",
              " 'began',\n",
              " 'guessed',\n",
              " 'was',\n",
              " 'said',\n",
              " 'went',\n",
              " 'knew',\n",
              " 'heard',\n",
              " 'could',\n",
              " 'to\\nherself.',\n",
              " 'thought',\n",
              " 'the',\n",
              " 'to',\n",
              " 'dodged',\n",
              " 'a',\n",
              " 'looked',\n",
              " 'looked',\n",
              " 'replied,\\nrather',\n",
              " 'replied',\n",
              " 'could',\n",
              " 'turned',\n",
              " 'replied',\n",
              " 'hastily',\n",
              " 'in',\n",
              " 'waited',\n",
              " 'to\\nherself.\\n\\n“Of',\n",
              " 'in',\n",
              " 'indignantly.',\n",
              " 'hastily;',\n",
              " 'crouched',\n",
              " 'noticed,',\n",
              " 'thought',\n",
              " 'again,',\n",
              " 'did',\n",
              " 'desperately:',\n",
              " 'said',\n",
              " 'quite\\njumped;',\n",
              " 'said',\n",
              " 'could',\n",
              " 'looked',\n",
              " 'did\\nnot',\n",
              " 'added',\n",
              " 'remarked.\\n\\n“Oh,',\n",
              " 'quietly',\n",
              " 'indignantly,',\n",
              " 'angrily.\\n\\n“It',\n",
              " 'said',\n",
              " 'hastily',\n",
              " 'replied',\n",
              " 'replied:',\n",
              " 'cautiously',\n",
              " 'thoughtfully:',\n",
              " 'asked.\\n\\nThe',\n",
              " 'ventured\\nto',\n",
              " 'gently',\n",
              " 'replied',\n",
              " 'was',\n",
              " 'said',\n",
              " 'rather',\n",
              " 'was',\n",
              " 'said',\n",
              " 'could',\n",
              " 'as',\n",
              " 'thought',\n",
              " 'looked',\n",
              " 'recognised',\n",
              " 'very',\n",
              " 'for',\n",
              " 'joined',\n",
              " 'gave',\n",
              " 'thought',\n",
              " 'found',\n",
              " 'put\\ndown',\n",
              " 'began,',\n",
              " 'as',\n",
              " 'an',\n",
              " 'could',\n",
              " 'appeared,',\n",
              " 'ventured',\n",
              " 'whispered,',\n",
              " 'thought',\n",
              " 'cautiously',\n",
              " 'remarked.\\n\\n“Right,',\n",
              " 'said;',\n",
              " 'said',\n",
              " 'sharply,',\n",
              " 'looked',\n",
              " 'was',\n",
              " 'heard',\n",
              " 'alone\\nwith',\n",
              " 'did',\n",
              " 'could',\n",
              " 'thought',\n",
              " 'was',\n",
              " 'asked.\\n\\n“We',\n",
              " 'could',\n",
              " 'indignantly.\\n\\n“Ah!',\n",
              " 'ventured',\n",
              " 'doubtfully:',\n",
              " 'went',\n",
              " 'timidly.\\n\\n“Would',\n",
              " 'replied',\n",
              " 'asked',\n",
              " 'in',\n",
              " 'began',\n",
              " 'said;',\n",
              " 'was\\nonly',\n",
              " 'by',\n",
              " 'panted',\n",
              " 'quite',\n",
              " 'whispered',\n",
              " 'began',\n",
              " 'felt',\n",
              " 'very',\n",
              " 'more',\n",
              " 'guessed',\n",
              " 'as',\n",
              " 'loudly.',\n",
              " 'dear!”',\n",
              " 'got',\n",
              " 'and',\n",
              " 'herself,']"
            ]
          },
          "metadata": {},
          "execution_count": 7
        }
      ]
    },
    {
      "cell_type": "code",
      "source": [
        "print(alice_chain.generate_text(start_word=\"Alice\"))"
      ],
      "metadata": {
        "colab": {
          "base_uri": "https://localhost:8080/"
        },
        "id": "PpXI5bv4V0Mc",
        "outputId": "0bbc7bc3-0637-4020-a2c2-c15ad49113b9"
      },
      "execution_count": null,
      "outputs": [
        {
          "output_type": "stream",
          "name": "stdout",
          "text": [
            "Alice was\n",
            "only too weak\n",
            "   *      Twinkle, twinkle—’”\n",
            "\n",
            "\n",
            "Here the Mock Turtle; “but it in\n",
            "a bit.”\n",
            "\n",
            "“Perhaps it was so that they couldn’t afford to be civil, you’d better ask the March Hare took the English coast you coward!” and did not noticed Alice, very likely true.)\n",
            "\n",
            "Down, down, down. Would the Gryphon, before she could, for a\n",
            "minute or three questions, and had to them—and it can say.”\n",
            "\n",
            "This was not used to speak again. That’s all.”\n",
            "\n",
            "“Thank you,” she went on, “‘—found\n",
            "it advisable to you_,’” said Alice. “I seem to the\n",
            "croquet-ground.\n",
            "\n",
            "The other side of the bill,\n",
            "‘French, music, _and washing_—extra.’”\n",
            "\n",
            "“You\n"
          ]
        }
      ]
    },
    {
      "cell_type": "code",
      "source": [
        "# Starting with \"The\" can be good too\n",
        "print(alice_chain.generate_text(start_word=\"The\", output_length=300))"
      ],
      "metadata": {
        "colab": {
          "base_uri": "https://localhost:8080/"
        },
        "id": "veF2KQSgblNw",
        "outputId": "e8a91660-c2b3-4bf2-d83f-f07f6dc39dd8"
      },
      "execution_count": null,
      "outputs": [
        {
          "output_type": "stream",
          "name": "stdout",
          "text": [
            "The Duchess! Oh dear! I am! But she asked.\n",
            "\n",
            "“Yes, that’s about a bound into her\n",
            "face, and here young Crab, a foot\n",
            "high: then the King. “When did not give you to find her arm a little chin in a bright and fork with her sister sat down the White Rabbit, “and that’s the Rabbit hastily replied; “only one\n",
            "doesn’t like it to be, from the Mock Turtle: “why, if only\n",
            "you can be raving mad—at least idea of course,” the same size by\n",
            "this time.) “You’re nothing but generally, “You make me out a small enough to herself; “his eyes anxiously looking at me\n",
            "like that!”\n",
            "\n",
            "“I couldn’t have wanted leaders, and Alice like the\n",
            "three gardeners, or not.\n",
            "\n",
            "“Oh, _please_ mind about among the Queen.\n",
            "\n",
            "First came an M, such nonsense!”\n",
            "\n",
            "“I didn’t know what Latitude was, that Alice very glad they’ve\n",
            "begun asking such a little thing!”\n",
            "\n",
            "It did not at it is it doesn’t\n",
            "matter much,” said Alice replied in a deal too much, if—if I’d\n",
            "only been examining the Duchess took no meaning of the\n",
            "cupboards as to work shaking it so Alice in her side. She said the next that he did not join the Rabbit’s voice; and rightly too, that Alice would not a comfort, one side, to\n",
            "look through into a number of hers began to herself, “I\n",
            "wonder what work at all know\n",
            "whether it off.\n",
            "\n",
            "*  *  Beautiful, beautiful Soup!\n",
            "\n",
            "“Beautiful Soup! Who Stole the air.\n",
            "\n",
            "“—as far off at the same words don’t remember ever heard!”\n",
            "\n",
            "“Yes, I was, and, by the first to the\n",
            "tarts on each hand.\n",
            "\n",
            "“And now let the Cat, and dishes crashed\n",
            "around it—once more calmly,\n",
            "though still it as there was a hard as well\n",
            "as she walked a low\n",
            "trembling voice, the door led into Alice’s head. “Very\n",
            "uncomfortable for some noise inside, no one of the other,\n",
            "saying, in existence; “and\n",
            "now for dinner!”\n",
            "\n",
            "(“I only growled in dancing.” Alice was the creatures\n"
          ]
        }
      ]
    },
    {
      "cell_type": "code",
      "source": [],
      "metadata": {
        "id": "06CwBbaRdi7Q"
      },
      "execution_count": null,
      "outputs": []
    }
  ]
}